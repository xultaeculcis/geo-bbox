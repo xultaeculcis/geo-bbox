{
 "cells": [
  {
   "cell_type": "markdown",
   "id": "proprietary-terry",
   "metadata": {},
   "source": [
    "# Make bboxes geo-aware"
   ]
  },
  {
   "cell_type": "markdown",
   "id": "native-boulder",
   "metadata": {},
   "source": [
    "### Imports"
   ]
  },
  {
   "cell_type": "code",
   "execution_count": 1,
   "id": "south-murray",
   "metadata": {
    "execution": {
     "iopub.execute_input": "2021-05-14T17:19:46.753509Z",
     "iopub.status.busy": "2021-05-14T17:19:46.753205Z",
     "iopub.status.idle": "2021-05-14T17:19:46.842339Z",
     "shell.execute_reply": "2021-05-14T17:19:46.841820Z",
     "shell.execute_reply.started": "2021-05-14T17:19:46.753429Z"
    }
   },
   "outputs": [],
   "source": [
    "from shapely.geometry import Polygon\n",
    "from pyproj import Transformer"
   ]
  },
  {
   "cell_type": "markdown",
   "id": "after-arkansas",
   "metadata": {},
   "source": [
    "### Some setup "
   ]
  },
  {
   "cell_type": "code",
   "execution_count": 2,
   "id": "tired-saying",
   "metadata": {
    "execution": {
     "iopub.execute_input": "2021-05-14T17:19:46.843351Z",
     "iopub.status.busy": "2021-05-14T17:19:46.843243Z",
     "iopub.status.idle": "2021-05-14T17:19:46.883414Z",
     "shell.execute_reply": "2021-05-14T17:19:46.882932Z",
     "shell.execute_reply.started": "2021-05-14T17:19:46.843337Z"
    }
   },
   "outputs": [],
   "source": [
    "origin = [19.958494700836596, 50.046781124380225] # [0,0] point, the beginning of the image -> top-left corner, can be lon/lat or easting/nortning the order (x, y) is important\n",
    "transformer = Transformer.from_crs(\"epsg:4326\", \"epsg:2180\",always_xy=True) # transfrormer from lat/lon to EPSG:2180\n",
    "origin = transformer.transform(*origin)\n",
    "bbox = [[98, 345],[420, 462]] # top-left, bottom-right (in pixels)"
   ]
  },
  {
   "cell_type": "markdown",
   "id": "criminal-danish",
   "metadata": {},
   "source": [
    "### How does it work?"
   ]
  },
  {
   "cell_type": "markdown",
   "id": "marked-exclusive",
   "metadata": {},
   "source": [
    "So we are assuming a few things here. First we assume that you have some metadata from your files. We will need to know 2 things:\n",
    "* The origin point\n",
    "* Distance per pixel\n",
    "\n",
    "The origin point is the (0,0) point of your image. The top-left point. We need to know it's coordinates. They can be either be \n",
    "easting/northing (in meters) or lon/lat (in degrees). \n",
    "\n",
    "The distance per pixel is also needed. It can be either in meters or in degrees. It's your job to ensure that the distance is \n",
    "in meters if your origin coordinates are easting/northing pair. If your origin's coordinates are in degrees, then you need to\n",
    "ensure that the distance per pixel is in degrees as well.\n",
    "\n",
    "The idea behind this algorithm is simple:\n",
    "1. We take the origin point \n",
    "2. We create a proper polygon from bbox (4 points instead of 2)\n",
    "3. For each point we add the distance multiplied by the coordinates of that point to the origin\n",
    "4. Done\n"
   ]
  },
  {
   "cell_type": "code",
   "execution_count": 3,
   "id": "alternate-signature",
   "metadata": {
    "execution": {
     "iopub.execute_input": "2021-05-14T17:19:46.885268Z",
     "iopub.status.busy": "2021-05-14T17:19:46.885160Z",
     "iopub.status.idle": "2021-05-14T17:19:46.890660Z",
     "shell.execute_reply": "2021-05-14T17:19:46.890195Z",
     "shell.execute_reply.started": "2021-05-14T17:19:46.885254Z"
    }
   },
   "outputs": [],
   "source": [
    "from typing import List\n",
    "\n",
    "def geo_bbox(bbox:List[List[float]], origin: List[float], distance_per_pixel: float) -> List[List[float]]:\n",
    "    \"\"\"\n",
    "    Maps specified bounding box (left-upper, bottom-right) in pixels to geo-encoded polygon in meters or degrees.\n",
    "    \n",
    "    Args:\n",
    "        bbox (List[List[float]]): The bounding box (top-left & bottom-right). Has to be in following format: [[x, y], [x, y]].\n",
    "        origin (List[float]): The origin coordinates. Top-left point (0,0) of your input image. \n",
    "        units_per_pixel (float): Units per pixel. How many degrees or meters is there per pixel.\n",
    "        \n",
    "    Returns:\n",
    "        (List[List[float]]): A list of 4 points representing bounding box polygon that has been made geo.\n",
    "    \"\"\"\n",
    "    \n",
    "    top_left = bbox[0]\n",
    "    top_right = [bbox[1][0], bbox[0][1]]\n",
    "    bottom_right = bbox[1]\n",
    "    bottom_left = [bbox[0][0], bbox[1][1]]\n",
    "    \n",
    "    poly = [top_left, top_right, bottom_right, bottom_left]\n",
    "    \n",
    "    output_poly = []\n",
    "    origin_x, origin_y = origin\n",
    "    for (x, y) in poly:\n",
    "        x_hat = origin_x + distance_per_pixel * x\n",
    "        y_hat = origin_y + distance_per_pixel * y\n",
    "        output_poly.append([x_hat, y_hat])\n",
    "        \n",
    "    return output_poly"
   ]
  },
  {
   "cell_type": "code",
   "execution_count": 4,
   "id": "eight-stake",
   "metadata": {
    "execution": {
     "iopub.execute_input": "2021-05-14T17:19:46.891346Z",
     "iopub.status.busy": "2021-05-14T17:19:46.891210Z",
     "iopub.status.idle": "2021-05-14T17:19:46.903456Z",
     "shell.execute_reply": "2021-05-14T17:19:46.902922Z",
     "shell.execute_reply.started": "2021-05-14T17:19:46.891328Z"
    }
   },
   "outputs": [
    {
     "name": "stdout",
     "output_type": "stream",
     "text": [
      "[[568614.4800091045, 242642.65476667695], [568646.6800091044, 242642.65476667695], [568646.6800091044, 242654.35476667696], [568614.4800091045, 242654.35476667696]]\n"
     ]
    },
    {
     "data": {
      "image/svg+xml": [
       "<svg xmlns=\"http://www.w3.org/2000/svg\" xmlns:xlink=\"http://www.w3.org/1999/xlink\" width=\"100.0\" height=\"100.0\" viewBox=\"568613.1920091045 242641.36676667695 34.77599999983795 14.276000000012573\" preserveAspectRatio=\"xMinYMin meet\"><g transform=\"matrix(1,0,0,-1,0,485297.0095333539)\"><path fill-rule=\"evenodd\" fill=\"#66cc99\" stroke=\"#555555\" stroke-width=\"0.695519999996759\" opacity=\"0.6\" d=\"M 568614.4800091045,242642.65476667695 L 568646.6800091044,242642.65476667695 L 568646.6800091044,242654.35476667696 L 568614.4800091045,242654.35476667696 L 568614.4800091045,242642.65476667695 z\" /></g></svg>"
      ],
      "text/plain": [
       "<shapely.geometry.polygon.Polygon at 0x7f33158d77c0>"
      ]
     },
     "execution_count": 4,
     "metadata": {},
     "output_type": "execute_result"
    }
   ],
   "source": [
    "result = geo_bbox(bbox=bbox, origin=origin, distance_per_pixel=0.1)\n",
    "print(result)\n",
    "Polygon(result)"
   ]
  }
 ],
 "metadata": {
  "kernelspec": {
   "display_name": "Python 3",
   "language": "python",
   "name": "python3"
  },
  "language_info": {
   "codemirror_mode": {
    "name": "ipython",
    "version": 3
   },
   "file_extension": ".py",
   "mimetype": "text/x-python",
   "name": "python",
   "nbconvert_exporter": "python",
   "pygments_lexer": "ipython3",
   "version": "3.8.2"
  }
 },
 "nbformat": 4,
 "nbformat_minor": 5
}
