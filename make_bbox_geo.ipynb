{
 "cells": [
  {
   "cell_type": "markdown",
   "id": "rough-chancellor",
   "metadata": {},
   "source": [
    "# Make bboxes geo-aware"
   ]
  },
  {
   "cell_type": "markdown",
   "id": "intellectual-bristol",
   "metadata": {},
   "source": [
    "### Imports"
   ]
  },
  {
   "cell_type": "code",
   "execution_count": 1,
   "id": "thrown-transaction",
   "metadata": {
    "execution": {
     "iopub.execute_input": "2021-05-14T17:56:16.864440Z",
     "iopub.status.busy": "2021-05-14T17:56:16.864158Z",
     "iopub.status.idle": "2021-05-14T17:56:17.325494Z",
     "shell.execute_reply": "2021-05-14T17:56:17.324951Z",
     "shell.execute_reply.started": "2021-05-14T17:56:16.864359Z"
    }
   },
   "outputs": [],
   "source": [
    "from shapely.geometry import Polygon\n",
    "from pyproj import Transformer\n",
    "import folium"
   ]
  },
  {
   "cell_type": "markdown",
   "id": "taken-advisory",
   "metadata": {},
   "source": [
    "### Some setup "
   ]
  },
  {
   "cell_type": "code",
   "execution_count": 2,
   "id": "unusual-learning",
   "metadata": {
    "execution": {
     "iopub.execute_input": "2021-05-14T17:56:17.326509Z",
     "iopub.status.busy": "2021-05-14T17:56:17.326388Z",
     "iopub.status.idle": "2021-05-14T17:56:17.368059Z",
     "shell.execute_reply": "2021-05-14T17:56:17.367566Z",
     "shell.execute_reply.started": "2021-05-14T17:56:17.326494Z"
    }
   },
   "outputs": [],
   "source": [
    "origin_ = [19.958494700836596, 50.046781124380225] # [0,0] point, the beginning of the image -> top-left corner, can be lon/lat or easting/nortning the order (x, y) is important\n",
    "transformer = Transformer.from_crs(\"epsg:4326\", \"epsg:2180\",always_xy=True) # transfrormer from lat/lon to EPSG:2180\n",
    "origin = transformer.transform(*origin_)\n",
    "bbox = [[98, 345],[420, 462]] # top-left, bottom-right (in pixels)"
   ]
  },
  {
   "cell_type": "code",
   "execution_count": 3,
   "id": "norwegian-documentary",
   "metadata": {
    "execution": {
     "iopub.execute_input": "2021-05-14T17:56:17.368917Z",
     "iopub.status.busy": "2021-05-14T17:56:17.368808Z",
     "iopub.status.idle": "2021-05-14T17:56:17.374847Z",
     "shell.execute_reply": "2021-05-14T17:56:17.374247Z",
     "shell.execute_reply.started": "2021-05-14T17:56:17.368902Z"
    }
   },
   "outputs": [],
   "source": [
    "def reverse_coords(point):\n",
    "    return [point[1], point[0]]"
   ]
  },
  {
   "cell_type": "code",
   "execution_count": 4,
   "id": "encouraging-mystery",
   "metadata": {
    "execution": {
     "iopub.execute_input": "2021-05-14T17:56:17.375746Z",
     "iopub.status.busy": "2021-05-14T17:56:17.375593Z",
     "iopub.status.idle": "2021-05-14T17:56:17.397565Z",
     "shell.execute_reply": "2021-05-14T17:56:17.397101Z",
     "shell.execute_reply.started": "2021-05-14T17:56:17.375725Z"
    }
   },
   "outputs": [
    {
     "data": {
      "text/html": [
       "<iframe src=\"about:blank\" width=\"720\" height=\"500\"style=\"border:none !important;\" data-html=%3C%21DOCTYPE%20html%3E%0A%3Chead%3E%20%20%20%20%0A%20%20%20%20%3Cmeta%20http-equiv%3D%22content-type%22%20content%3D%22text/html%3B%20charset%3DUTF-8%22%20/%3E%0A%20%20%20%20%0A%20%20%20%20%20%20%20%20%3Cscript%3E%0A%20%20%20%20%20%20%20%20%20%20%20%20L_NO_TOUCH%20%3D%20false%3B%0A%20%20%20%20%20%20%20%20%20%20%20%20L_DISABLE_3D%20%3D%20false%3B%0A%20%20%20%20%20%20%20%20%3C/script%3E%0A%20%20%20%20%0A%20%20%20%20%3Cstyle%3Ehtml%2C%20body%20%7Bwidth%3A%20100%25%3Bheight%3A%20100%25%3Bmargin%3A%200%3Bpadding%3A%200%3B%7D%3C/style%3E%0A%20%20%20%20%3Cstyle%3E%23map%20%7Bposition%3Aabsolute%3Btop%3A0%3Bbottom%3A0%3Bright%3A0%3Bleft%3A0%3B%7D%3C/style%3E%0A%20%20%20%20%3Cscript%20src%3D%22https%3A//cdn.jsdelivr.net/npm/leaflet%401.6.0/dist/leaflet.js%22%3E%3C/script%3E%0A%20%20%20%20%3Cscript%20src%3D%22https%3A//code.jquery.com/jquery-1.12.4.min.js%22%3E%3C/script%3E%0A%20%20%20%20%3Cscript%20src%3D%22https%3A//maxcdn.bootstrapcdn.com/bootstrap/3.2.0/js/bootstrap.min.js%22%3E%3C/script%3E%0A%20%20%20%20%3Cscript%20src%3D%22https%3A//cdnjs.cloudflare.com/ajax/libs/Leaflet.awesome-markers/2.0.2/leaflet.awesome-markers.js%22%3E%3C/script%3E%0A%20%20%20%20%3Clink%20rel%3D%22stylesheet%22%20href%3D%22https%3A//cdn.jsdelivr.net/npm/leaflet%401.6.0/dist/leaflet.css%22/%3E%0A%20%20%20%20%3Clink%20rel%3D%22stylesheet%22%20href%3D%22https%3A//maxcdn.bootstrapcdn.com/bootstrap/3.2.0/css/bootstrap.min.css%22/%3E%0A%20%20%20%20%3Clink%20rel%3D%22stylesheet%22%20href%3D%22https%3A//maxcdn.bootstrapcdn.com/bootstrap/3.2.0/css/bootstrap-theme.min.css%22/%3E%0A%20%20%20%20%3Clink%20rel%3D%22stylesheet%22%20href%3D%22https%3A//maxcdn.bootstrapcdn.com/font-awesome/4.6.3/css/font-awesome.min.css%22/%3E%0A%20%20%20%20%3Clink%20rel%3D%22stylesheet%22%20href%3D%22https%3A//cdnjs.cloudflare.com/ajax/libs/Leaflet.awesome-markers/2.0.2/leaflet.awesome-markers.css%22/%3E%0A%20%20%20%20%3Clink%20rel%3D%22stylesheet%22%20href%3D%22https%3A//cdn.jsdelivr.net/gh/python-visualization/folium/folium/templates/leaflet.awesome.rotate.min.css%22/%3E%0A%20%20%20%20%0A%20%20%20%20%20%20%20%20%20%20%20%20%3Cmeta%20name%3D%22viewport%22%20content%3D%22width%3Ddevice-width%2C%0A%20%20%20%20%20%20%20%20%20%20%20%20%20%20%20%20initial-scale%3D1.0%2C%20maximum-scale%3D1.0%2C%20user-scalable%3Dno%22%20/%3E%0A%20%20%20%20%20%20%20%20%20%20%20%20%3Cstyle%3E%0A%20%20%20%20%20%20%20%20%20%20%20%20%20%20%20%20%23map_8a0215e278324d35b444014573c6abea%20%7B%0A%20%20%20%20%20%20%20%20%20%20%20%20%20%20%20%20%20%20%20%20position%3A%20relative%3B%0A%20%20%20%20%20%20%20%20%20%20%20%20%20%20%20%20%20%20%20%20width%3A%20100.0%25%3B%0A%20%20%20%20%20%20%20%20%20%20%20%20%20%20%20%20%20%20%20%20height%3A%20100.0%25%3B%0A%20%20%20%20%20%20%20%20%20%20%20%20%20%20%20%20%20%20%20%20left%3A%200.0%25%3B%0A%20%20%20%20%20%20%20%20%20%20%20%20%20%20%20%20%20%20%20%20top%3A%200.0%25%3B%0A%20%20%20%20%20%20%20%20%20%20%20%20%20%20%20%20%7D%0A%20%20%20%20%20%20%20%20%20%20%20%20%3C/style%3E%0A%20%20%20%20%20%20%20%20%0A%3C/head%3E%0A%3Cbody%3E%20%20%20%20%0A%20%20%20%20%0A%20%20%20%20%20%20%20%20%20%20%20%20%3Cdiv%20class%3D%22folium-map%22%20id%3D%22map_8a0215e278324d35b444014573c6abea%22%20%3E%3C/div%3E%0A%20%20%20%20%20%20%20%20%0A%3C/body%3E%0A%3Cscript%3E%20%20%20%20%0A%20%20%20%20%0A%20%20%20%20%20%20%20%20%20%20%20%20var%20map_8a0215e278324d35b444014573c6abea%20%3D%20L.map%28%0A%20%20%20%20%20%20%20%20%20%20%20%20%20%20%20%20%22map_8a0215e278324d35b444014573c6abea%22%2C%0A%20%20%20%20%20%20%20%20%20%20%20%20%20%20%20%20%7B%0A%20%20%20%20%20%20%20%20%20%20%20%20%20%20%20%20%20%20%20%20center%3A%20%5B50.046781124380225%2C%2019.958494700836596%5D%2C%0A%20%20%20%20%20%20%20%20%20%20%20%20%20%20%20%20%20%20%20%20crs%3A%20L.CRS.EPSG3857%2C%0A%20%20%20%20%20%20%20%20%20%20%20%20%20%20%20%20%20%20%20%20zoom%3A%2018%2C%0A%20%20%20%20%20%20%20%20%20%20%20%20%20%20%20%20%20%20%20%20zoomControl%3A%20true%2C%0A%20%20%20%20%20%20%20%20%20%20%20%20%20%20%20%20%20%20%20%20preferCanvas%3A%20false%2C%0A%20%20%20%20%20%20%20%20%20%20%20%20%20%20%20%20%7D%0A%20%20%20%20%20%20%20%20%20%20%20%20%29%3B%0A%0A%20%20%20%20%20%20%20%20%20%20%20%20%0A%0A%20%20%20%20%20%20%20%20%0A%20%20%20%20%0A%20%20%20%20%20%20%20%20%20%20%20%20var%20tile_layer_a1782c05fe6943b186fea23748713ff4%20%3D%20L.tileLayer%28%0A%20%20%20%20%20%20%20%20%20%20%20%20%20%20%20%20%22https%3A//%7Bs%7D.tile.openstreetmap.org/%7Bz%7D/%7Bx%7D/%7By%7D.png%22%2C%0A%20%20%20%20%20%20%20%20%20%20%20%20%20%20%20%20%7B%22attribution%22%3A%20%22Data%20by%20%5Cu0026copy%3B%20%5Cu003ca%20href%3D%5C%22http%3A//openstreetmap.org%5C%22%5Cu003eOpenStreetMap%5Cu003c/a%5Cu003e%2C%20under%20%5Cu003ca%20href%3D%5C%22http%3A//www.openstreetmap.org/copyright%5C%22%5Cu003eODbL%5Cu003c/a%5Cu003e.%22%2C%20%22detectRetina%22%3A%20false%2C%20%22maxNativeZoom%22%3A%2018%2C%20%22maxZoom%22%3A%2018%2C%20%22minZoom%22%3A%200%2C%20%22noWrap%22%3A%20false%2C%20%22opacity%22%3A%201%2C%20%22subdomains%22%3A%20%22abc%22%2C%20%22tms%22%3A%20false%7D%0A%20%20%20%20%20%20%20%20%20%20%20%20%29.addTo%28map_8a0215e278324d35b444014573c6abea%29%3B%0A%20%20%20%20%20%20%20%20%0A%20%20%20%20%0A%20%20%20%20%20%20%20%20%20%20%20%20var%20marker_be36e248f75247d2bdb2ad4570c69249%20%3D%20L.marker%28%0A%20%20%20%20%20%20%20%20%20%20%20%20%20%20%20%20%5B50.046781124380225%2C%2019.958494700836596%5D%2C%0A%20%20%20%20%20%20%20%20%20%20%20%20%20%20%20%20%7B%7D%0A%20%20%20%20%20%20%20%20%20%20%20%20%29.addTo%28map_8a0215e278324d35b444014573c6abea%29%3B%0A%20%20%20%20%20%20%20%20%0A%20%20%20%20%0A%20%20%20%20%20%20%20%20var%20popup_50fb89f8e8854f3ba84be85b879f7fc4%20%3D%20L.popup%28%7B%22maxWidth%22%3A%20%22100%25%22%7D%29%3B%0A%0A%20%20%20%20%20%20%20%20%0A%20%20%20%20%20%20%20%20%20%20%20%20var%20html_b481919e68ca489599edcc24d2aea557%20%3D%20%24%28%60%3Cdiv%20id%3D%22html_b481919e68ca489599edcc24d2aea557%22%20style%3D%22width%3A%20100.0%25%3B%20height%3A%20100.0%25%3B%22%3E%3Ci%3EOrigin%3C/i%3E%3C/div%3E%60%29%5B0%5D%3B%0A%20%20%20%20%20%20%20%20%20%20%20%20popup_50fb89f8e8854f3ba84be85b879f7fc4.setContent%28html_b481919e68ca489599edcc24d2aea557%29%3B%0A%20%20%20%20%20%20%20%20%0A%0A%20%20%20%20%20%20%20%20marker_be36e248f75247d2bdb2ad4570c69249.bindPopup%28popup_50fb89f8e8854f3ba84be85b879f7fc4%29%0A%20%20%20%20%20%20%20%20%3B%0A%0A%20%20%20%20%20%20%20%20%0A%20%20%20%20%0A%20%20%20%20%0A%20%20%20%20%20%20%20%20%20%20%20%20marker_be36e248f75247d2bdb2ad4570c69249.bindTooltip%28%0A%20%20%20%20%20%20%20%20%20%20%20%20%20%20%20%20%60%3Cdiv%3E%0A%20%20%20%20%20%20%20%20%20%20%20%20%20%20%20%20%20%20%20%20%20Origin%0A%20%20%20%20%20%20%20%20%20%20%20%20%20%20%20%20%20%3C/div%3E%60%2C%0A%20%20%20%20%20%20%20%20%20%20%20%20%20%20%20%20%7B%22sticky%22%3A%20true%7D%0A%20%20%20%20%20%20%20%20%20%20%20%20%29%3B%0A%20%20%20%20%20%20%20%20%0A%3C/script%3E onload=\"this.contentDocument.open();this.contentDocument.write(    decodeURIComponent(this.getAttribute('data-html')));this.contentDocument.close();\" \"allowfullscreen\" \"webkitallowfullscreen\" \"mozallowfullscreen\"></iframe>"
      ],
      "text/plain": [
       "<folium.folium.Map at 0x7fe0f4565df0>"
      ]
     },
     "execution_count": 4,
     "metadata": {},
     "output_type": "execute_result"
    }
   ],
   "source": [
    "f = folium.Figure(width=720, height=500)\n",
    "m = folium.Map(location=reverse_coords(origin_), zoom_start=18).add_to(f)\n",
    "folium.Marker(\n",
    "    reverse_coords(origin_), popup=\"<i>Origin</i>\", tooltip=\"Origin\"\n",
    ").add_to(m)\n",
    "m"
   ]
  },
  {
   "cell_type": "markdown",
   "id": "remarkable-position",
   "metadata": {},
   "source": [
    "### How does it work?"
   ]
  },
  {
   "cell_type": "markdown",
   "id": "alleged-jacket",
   "metadata": {},
   "source": [
    "So we are assuming a few things here. First we assume that you have some metadata from your files. We will need to know 2 things:\n",
    "* The origin point\n",
    "* Distance per pixel\n",
    "\n",
    "The origin point is the (0,0) point of your image. The top-left point. We need to know it's coordinates. They can be either be \n",
    "easting/northing (in meters) or lon/lat (in degrees). \n",
    "\n",
    "The distance per pixel is also needed. It can be either in meters or in degrees. It's your job to ensure that the distance is \n",
    "in meters if your origin coordinates are easting/northing pair. If your origin's coordinates are in degrees, then you need to\n",
    "ensure that the distance per pixel is in degrees as well.\n",
    "\n",
    "The idea behind this algorithm is simple:\n",
    "1. We take the origin point \n",
    "2. We create a proper polygon from bbox (4 points instead of 2)\n",
    "3. For each point we add the distance multiplied by the coordinates of that point to the origin\n",
    "4. Done\n"
   ]
  },
  {
   "cell_type": "code",
   "execution_count": 5,
   "id": "treated-purpose",
   "metadata": {
    "execution": {
     "iopub.execute_input": "2021-05-14T17:56:17.398347Z",
     "iopub.status.busy": "2021-05-14T17:56:17.398223Z",
     "iopub.status.idle": "2021-05-14T17:56:17.404376Z",
     "shell.execute_reply": "2021-05-14T17:56:17.403696Z",
     "shell.execute_reply.started": "2021-05-14T17:56:17.398330Z"
    }
   },
   "outputs": [],
   "source": [
    "from typing import List\n",
    "\n",
    "def to_poly(bbox):\n",
    "    top_left = bbox[0]\n",
    "    top_right = [bbox[1][0], bbox[0][1]]\n",
    "    bottom_right = bbox[1]\n",
    "    bottom_left = [bbox[0][0], bbox[1][1]]\n",
    "    \n",
    "    poly = [top_left, top_right, bottom_right, bottom_left]\n",
    "    \n",
    "    return poly\n",
    "\n",
    "def geo_bbox(bbox:List[List[float]], origin: List[float], distance_per_pixel: float) -> List[List[float]]:\n",
    "    \"\"\"\n",
    "    Maps specified bounding box (left-upper, bottom-right) in pixels to geo-encoded polygon in meters or degrees.\n",
    "    \n",
    "    Args:\n",
    "        bbox (List[List[float]]): The bounding box (top-left & bottom-right). Has to be in following format: [[x, y], [x, y]].\n",
    "        origin (List[float]): The origin coordinates. Top-left point (0,0) of your input image. \n",
    "        units_per_pixel (float): Units per pixel. How many degrees or meters is there per pixel.\n",
    "        \n",
    "    Returns:\n",
    "        (List[List[float]]): A list of 4 points representing bounding box polygon that has been made geo.\n",
    "    \"\"\"\n",
    "    poly = to_poly(bbox)\n",
    "    \n",
    "    output_poly = []\n",
    "    origin_x, origin_y = origin\n",
    "    for (x, y) in poly:\n",
    "        x_hat = origin_x + distance_per_pixel * x\n",
    "        y_hat = origin_y - distance_per_pixel * y\n",
    "        output_poly.append([x_hat, y_hat])\n",
    "        \n",
    "    return output_poly"
   ]
  },
  {
   "cell_type": "markdown",
   "id": "corrected-photographer",
   "metadata": {},
   "source": [
    "### Run conversion"
   ]
  },
  {
   "cell_type": "code",
   "execution_count": 6,
   "id": "female-commodity",
   "metadata": {
    "execution": {
     "iopub.execute_input": "2021-05-14T17:56:17.405234Z",
     "iopub.status.busy": "2021-05-14T17:56:17.405099Z",
     "iopub.status.idle": "2021-05-14T17:56:17.410527Z",
     "shell.execute_reply": "2021-05-14T17:56:17.409973Z",
     "shell.execute_reply.started": "2021-05-14T17:56:17.405215Z"
    }
   },
   "outputs": [
    {
     "name": "stdout",
     "output_type": "stream",
     "text": [
      "[[98, 345], [420, 345], [420, 462], [98, 462]]\n",
      "[[568614.4800091045, 242573.65476667695], [568646.6800091044, 242573.65476667695], [568646.6800091044, 242561.95476667694], [568614.4800091045, 242561.95476667694]]\n"
     ]
    },
    {
     "data": {
      "image/svg+xml": [
       "<svg xmlns=\"http://www.w3.org/2000/svg\" xmlns:xlink=\"http://www.w3.org/1999/xlink\" width=\"100.0\" height=\"100.0\" viewBox=\"568613.1920091045 242560.66676667694 34.77599999983795 14.276000000012573\" preserveAspectRatio=\"xMinYMin meet\"><g transform=\"matrix(1,0,0,-1,0,485135.6095333539)\"><path fill-rule=\"evenodd\" fill=\"#66cc99\" stroke=\"#555555\" stroke-width=\"0.695519999996759\" opacity=\"0.6\" d=\"M 568614.4800091045,242573.65476667695 L 568646.6800091044,242573.65476667695 L 568646.6800091044,242561.95476667694 L 568614.4800091045,242561.95476667694 L 568614.4800091045,242573.65476667695 z\" /></g></svg>"
      ],
      "text/plain": [
       "<shapely.geometry.polygon.Polygon at 0x7fe0f4557a30>"
      ]
     },
     "execution_count": 6,
     "metadata": {},
     "output_type": "execute_result"
    }
   ],
   "source": [
    "result = geo_bbox(bbox=bbox, origin=origin, distance_per_pixel=0.1)\n",
    "print(to_poly(bbox))\n",
    "print(result)\n",
    "Polygon(result)"
   ]
  },
  {
   "cell_type": "markdown",
   "id": "square-helen",
   "metadata": {},
   "source": [
    "### Visualize results"
   ]
  },
  {
   "cell_type": "code",
   "execution_count": 7,
   "id": "eligible-password",
   "metadata": {
    "execution": {
     "iopub.execute_input": "2021-05-14T17:56:17.411456Z",
     "iopub.status.busy": "2021-05-14T17:56:17.411300Z",
     "iopub.status.idle": "2021-05-14T17:56:17.577284Z",
     "shell.execute_reply": "2021-05-14T17:56:17.576797Z",
     "shell.execute_reply.started": "2021-05-14T17:56:17.411436Z"
    }
   },
   "outputs": [
    {
     "data": {
      "text/html": [
       "<iframe src=\"about:blank\" width=\"720\" height=\"500\"style=\"border:none !important;\" data-html=%3C%21DOCTYPE%20html%3E%0A%3Chead%3E%20%20%20%20%0A%20%20%20%20%3Cmeta%20http-equiv%3D%22content-type%22%20content%3D%22text/html%3B%20charset%3DUTF-8%22%20/%3E%0A%20%20%20%20%0A%20%20%20%20%20%20%20%20%3Cscript%3E%0A%20%20%20%20%20%20%20%20%20%20%20%20L_NO_TOUCH%20%3D%20false%3B%0A%20%20%20%20%20%20%20%20%20%20%20%20L_DISABLE_3D%20%3D%20false%3B%0A%20%20%20%20%20%20%20%20%3C/script%3E%0A%20%20%20%20%0A%20%20%20%20%3Cstyle%3Ehtml%2C%20body%20%7Bwidth%3A%20100%25%3Bheight%3A%20100%25%3Bmargin%3A%200%3Bpadding%3A%200%3B%7D%3C/style%3E%0A%20%20%20%20%3Cstyle%3E%23map%20%7Bposition%3Aabsolute%3Btop%3A0%3Bbottom%3A0%3Bright%3A0%3Bleft%3A0%3B%7D%3C/style%3E%0A%20%20%20%20%3Cscript%20src%3D%22https%3A//cdn.jsdelivr.net/npm/leaflet%401.6.0/dist/leaflet.js%22%3E%3C/script%3E%0A%20%20%20%20%3Cscript%20src%3D%22https%3A//code.jquery.com/jquery-1.12.4.min.js%22%3E%3C/script%3E%0A%20%20%20%20%3Cscript%20src%3D%22https%3A//maxcdn.bootstrapcdn.com/bootstrap/3.2.0/js/bootstrap.min.js%22%3E%3C/script%3E%0A%20%20%20%20%3Cscript%20src%3D%22https%3A//cdnjs.cloudflare.com/ajax/libs/Leaflet.awesome-markers/2.0.2/leaflet.awesome-markers.js%22%3E%3C/script%3E%0A%20%20%20%20%3Clink%20rel%3D%22stylesheet%22%20href%3D%22https%3A//cdn.jsdelivr.net/npm/leaflet%401.6.0/dist/leaflet.css%22/%3E%0A%20%20%20%20%3Clink%20rel%3D%22stylesheet%22%20href%3D%22https%3A//maxcdn.bootstrapcdn.com/bootstrap/3.2.0/css/bootstrap.min.css%22/%3E%0A%20%20%20%20%3Clink%20rel%3D%22stylesheet%22%20href%3D%22https%3A//maxcdn.bootstrapcdn.com/bootstrap/3.2.0/css/bootstrap-theme.min.css%22/%3E%0A%20%20%20%20%3Clink%20rel%3D%22stylesheet%22%20href%3D%22https%3A//maxcdn.bootstrapcdn.com/font-awesome/4.6.3/css/font-awesome.min.css%22/%3E%0A%20%20%20%20%3Clink%20rel%3D%22stylesheet%22%20href%3D%22https%3A//cdnjs.cloudflare.com/ajax/libs/Leaflet.awesome-markers/2.0.2/leaflet.awesome-markers.css%22/%3E%0A%20%20%20%20%3Clink%20rel%3D%22stylesheet%22%20href%3D%22https%3A//cdn.jsdelivr.net/gh/python-visualization/folium/folium/templates/leaflet.awesome.rotate.min.css%22/%3E%0A%20%20%20%20%0A%20%20%20%20%20%20%20%20%20%20%20%20%3Cmeta%20name%3D%22viewport%22%20content%3D%22width%3Ddevice-width%2C%0A%20%20%20%20%20%20%20%20%20%20%20%20%20%20%20%20initial-scale%3D1.0%2C%20maximum-scale%3D1.0%2C%20user-scalable%3Dno%22%20/%3E%0A%20%20%20%20%20%20%20%20%20%20%20%20%3Cstyle%3E%0A%20%20%20%20%20%20%20%20%20%20%20%20%20%20%20%20%23map_f786bbc9b8f94040a5994d342dbed173%20%7B%0A%20%20%20%20%20%20%20%20%20%20%20%20%20%20%20%20%20%20%20%20position%3A%20relative%3B%0A%20%20%20%20%20%20%20%20%20%20%20%20%20%20%20%20%20%20%20%20width%3A%20100.0%25%3B%0A%20%20%20%20%20%20%20%20%20%20%20%20%20%20%20%20%20%20%20%20height%3A%20100.0%25%3B%0A%20%20%20%20%20%20%20%20%20%20%20%20%20%20%20%20%20%20%20%20left%3A%200.0%25%3B%0A%20%20%20%20%20%20%20%20%20%20%20%20%20%20%20%20%20%20%20%20top%3A%200.0%25%3B%0A%20%20%20%20%20%20%20%20%20%20%20%20%20%20%20%20%7D%0A%20%20%20%20%20%20%20%20%20%20%20%20%3C/style%3E%0A%20%20%20%20%20%20%20%20%0A%3C/head%3E%0A%3Cbody%3E%20%20%20%20%0A%20%20%20%20%0A%20%20%20%20%20%20%20%20%20%20%20%20%3Cdiv%20class%3D%22folium-map%22%20id%3D%22map_f786bbc9b8f94040a5994d342dbed173%22%20%3E%3C/div%3E%0A%20%20%20%20%20%20%20%20%0A%3C/body%3E%0A%3Cscript%3E%20%20%20%20%0A%20%20%20%20%0A%20%20%20%20%20%20%20%20%20%20%20%20var%20map_f786bbc9b8f94040a5994d342dbed173%20%3D%20L.map%28%0A%20%20%20%20%20%20%20%20%20%20%20%20%20%20%20%20%22map_f786bbc9b8f94040a5994d342dbed173%22%2C%0A%20%20%20%20%20%20%20%20%20%20%20%20%20%20%20%20%7B%0A%20%20%20%20%20%20%20%20%20%20%20%20%20%20%20%20%20%20%20%20center%3A%20%5B50.046781124380225%2C%2019.958494700836596%5D%2C%0A%20%20%20%20%20%20%20%20%20%20%20%20%20%20%20%20%20%20%20%20crs%3A%20L.CRS.EPSG3857%2C%0A%20%20%20%20%20%20%20%20%20%20%20%20%20%20%20%20%20%20%20%20zoom%3A%2018%2C%0A%20%20%20%20%20%20%20%20%20%20%20%20%20%20%20%20%20%20%20%20zoomControl%3A%20true%2C%0A%20%20%20%20%20%20%20%20%20%20%20%20%20%20%20%20%20%20%20%20preferCanvas%3A%20false%2C%0A%20%20%20%20%20%20%20%20%20%20%20%20%20%20%20%20%7D%0A%20%20%20%20%20%20%20%20%20%20%20%20%29%3B%0A%0A%20%20%20%20%20%20%20%20%20%20%20%20%0A%0A%20%20%20%20%20%20%20%20%0A%20%20%20%20%0A%20%20%20%20%20%20%20%20%20%20%20%20var%20tile_layer_bd9799825b744b7da0ea6019dd8b6a56%20%3D%20L.tileLayer%28%0A%20%20%20%20%20%20%20%20%20%20%20%20%20%20%20%20%22https%3A//%7Bs%7D.tile.openstreetmap.org/%7Bz%7D/%7Bx%7D/%7By%7D.png%22%2C%0A%20%20%20%20%20%20%20%20%20%20%20%20%20%20%20%20%7B%22attribution%22%3A%20%22Data%20by%20%5Cu0026copy%3B%20%5Cu003ca%20href%3D%5C%22http%3A//openstreetmap.org%5C%22%5Cu003eOpenStreetMap%5Cu003c/a%5Cu003e%2C%20under%20%5Cu003ca%20href%3D%5C%22http%3A//www.openstreetmap.org/copyright%5C%22%5Cu003eODbL%5Cu003c/a%5Cu003e.%22%2C%20%22detectRetina%22%3A%20false%2C%20%22maxNativeZoom%22%3A%2018%2C%20%22maxZoom%22%3A%2018%2C%20%22minZoom%22%3A%200%2C%20%22noWrap%22%3A%20false%2C%20%22opacity%22%3A%201%2C%20%22subdomains%22%3A%20%22abc%22%2C%20%22tms%22%3A%20false%7D%0A%20%20%20%20%20%20%20%20%20%20%20%20%29.addTo%28map_f786bbc9b8f94040a5994d342dbed173%29%3B%0A%20%20%20%20%20%20%20%20%0A%20%20%20%20%0A%20%20%20%20%20%20%20%20%20%20%20%20var%20marker_8eb76ba115ed458585ad2a7d06d6fb6d%20%3D%20L.marker%28%0A%20%20%20%20%20%20%20%20%20%20%20%20%20%20%20%20%5B50.046781124380225%2C%2019.958494700836596%5D%2C%0A%20%20%20%20%20%20%20%20%20%20%20%20%20%20%20%20%7B%7D%0A%20%20%20%20%20%20%20%20%20%20%20%20%29.addTo%28map_f786bbc9b8f94040a5994d342dbed173%29%3B%0A%20%20%20%20%20%20%20%20%0A%20%20%20%20%0A%20%20%20%20%20%20%20%20var%20popup_f2f32e5c12f1442a9ce8a880c6cee932%20%3D%20L.popup%28%7B%22maxWidth%22%3A%20%22100%25%22%7D%29%3B%0A%0A%20%20%20%20%20%20%20%20%0A%20%20%20%20%20%20%20%20%20%20%20%20var%20html_0594addf0b7a427783212fc1167455eb%20%3D%20%24%28%60%3Cdiv%20id%3D%22html_0594addf0b7a427783212fc1167455eb%22%20style%3D%22width%3A%20100.0%25%3B%20height%3A%20100.0%25%3B%22%3E%3Ci%3EOrigin%3C/i%3E%3C/div%3E%60%29%5B0%5D%3B%0A%20%20%20%20%20%20%20%20%20%20%20%20popup_f2f32e5c12f1442a9ce8a880c6cee932.setContent%28html_0594addf0b7a427783212fc1167455eb%29%3B%0A%20%20%20%20%20%20%20%20%0A%0A%20%20%20%20%20%20%20%20marker_8eb76ba115ed458585ad2a7d06d6fb6d.bindPopup%28popup_f2f32e5c12f1442a9ce8a880c6cee932%29%0A%20%20%20%20%20%20%20%20%3B%0A%0A%20%20%20%20%20%20%20%20%0A%20%20%20%20%0A%20%20%20%20%0A%20%20%20%20%20%20%20%20%20%20%20%20marker_8eb76ba115ed458585ad2a7d06d6fb6d.bindTooltip%28%0A%20%20%20%20%20%20%20%20%20%20%20%20%20%20%20%20%60%3Cdiv%3E%0A%20%20%20%20%20%20%20%20%20%20%20%20%20%20%20%20%20%20%20%20%20Origin%0A%20%20%20%20%20%20%20%20%20%20%20%20%20%20%20%20%20%3C/div%3E%60%2C%0A%20%20%20%20%20%20%20%20%20%20%20%20%20%20%20%20%7B%22sticky%22%3A%20true%7D%0A%20%20%20%20%20%20%20%20%20%20%20%20%29%3B%0A%20%20%20%20%20%20%20%20%0A%20%20%20%20%0A%0A%20%20%20%20%20%20%20%20function%20geo_json_712a7fe2c89642feb3adda856f467118_onEachFeature%28feature%2C%20layer%29%20%7B%0A%20%20%20%20%20%20%20%20%20%20%20%20layer.on%28%7B%0A%20%20%20%20%20%20%20%20%20%20%20%20%7D%29%3B%0A%20%20%20%20%20%20%20%20%7D%3B%0A%20%20%20%20%20%20%20%20var%20geo_json_712a7fe2c89642feb3adda856f467118%20%3D%20L.geoJson%28null%2C%20%7B%0A%20%20%20%20%20%20%20%20%20%20%20%20%20%20%20%20onEachFeature%3A%20geo_json_712a7fe2c89642feb3adda856f467118_onEachFeature%2C%0A%20%20%20%20%20%20%20%20%20%20%20%20%0A%20%20%20%20%20%20%20%20%7D%29%3B%0A%0A%20%20%20%20%20%20%20%20function%20geo_json_712a7fe2c89642feb3adda856f467118_add%20%28data%29%20%7B%0A%20%20%20%20%20%20%20%20%20%20%20%20geo_json_712a7fe2c89642feb3adda856f467118%0A%20%20%20%20%20%20%20%20%20%20%20%20%20%20%20%20.addData%28data%29%0A%20%20%20%20%20%20%20%20%20%20%20%20%20%20%20%20.addTo%28map_f786bbc9b8f94040a5994d342dbed173%29%3B%0A%20%20%20%20%20%20%20%20%7D%0A%20%20%20%20%20%20%20%20%20%20%20%20geo_json_712a7fe2c89642feb3adda856f467118_add%28%7B%22bbox%22%3A%20%5B19.958623320935672%2C%2050.04636068912648%2C%2019.959075222648867%2C%2050.04646965170375%5D%2C%20%22features%22%3A%20%5B%7B%22bbox%22%3A%20%5B19.958623320935672%2C%2050.04636068912648%2C%2019.959075222648867%2C%2050.04646965170375%5D%2C%20%22geometry%22%3A%20%7B%22coordinates%22%3A%20%5B%5B%5B19.958625417313755%2C%2050.04646965170375%5D%2C%20%5B19.959075222648867%2C%2050.04646593553473%5D%2C%20%5B19.959073125287492%2C%2050.04636068912648%5D%2C%20%5B19.958623320935672%2C%2050.04636440528173%5D%2C%20%5B19.958625417313755%2C%2050.04646965170375%5D%5D%5D%2C%20%22type%22%3A%20%22Polygon%22%7D%2C%20%22id%22%3A%20%220%22%2C%20%22properties%22%3A%20%7B%7D%2C%20%22type%22%3A%20%22Feature%22%7D%5D%2C%20%22type%22%3A%20%22FeatureCollection%22%7D%29%3B%0A%0A%20%20%20%20%20%20%20%20%0A%3C/script%3E onload=\"this.contentDocument.open();this.contentDocument.write(    decodeURIComponent(this.getAttribute('data-html')));this.contentDocument.close();\" \"allowfullscreen\" \"webkitallowfullscreen\" \"mozallowfullscreen\"></iframe>"
      ],
      "text/plain": [
       "<folium.folium.Map at 0x7fe0f44ea190>"
      ]
     },
     "execution_count": 7,
     "metadata": {},
     "output_type": "execute_result"
    }
   ],
   "source": [
    "import geopandas as gpd\n",
    "\n",
    "transformer = Transformer.from_crs(\"epsg:2180\", \"epsg:4326\",always_xy=True)\n",
    "in_lat_lon = [transformer.transform(*point) for point in result]\n",
    "\n",
    "f = folium.Figure(width=720, height=500)\n",
    "m = folium.Map(location=reverse_coords(origin_), zoom_start=18).add_to(f)\n",
    "\n",
    "folium.Marker(reverse_coords(origin_), popup=\"<i>Origin</i>\", tooltip=\"Origin\").add_to(m)\n",
    "\n",
    "gdf = gpd.GeoDataFrame({\"geometry\": [Polygon(in_lat_lon)]}, crs=\"EPSG:4326\")\n",
    "\n",
    "folium.GeoJson(gdf).add_to(m)\n",
    "\n",
    "m"
   ]
  },
  {
   "cell_type": "code",
   "execution_count": null,
   "id": "automatic-punch",
   "metadata": {},
   "outputs": [],
   "source": []
  }
 ],
 "metadata": {
  "kernelspec": {
   "display_name": "Python 3",
   "language": "python",
   "name": "python3"
  },
  "language_info": {
   "codemirror_mode": {
    "name": "ipython",
    "version": 3
   },
   "file_extension": ".py",
   "mimetype": "text/x-python",
   "name": "python",
   "nbconvert_exporter": "python",
   "pygments_lexer": "ipython3",
   "version": "3.8.2"
  }
 },
 "nbformat": 4,
 "nbformat_minor": 5
}
